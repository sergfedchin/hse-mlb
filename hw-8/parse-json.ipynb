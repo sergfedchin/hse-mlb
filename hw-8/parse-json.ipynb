{
 "cells": [
  {
   "cell_type": "code",
   "execution_count": 1,
   "metadata": {},
   "outputs": [],
   "source": [
    "import os\n",
    "import re\n",
    "import pandas as pd\n",
    "from sklearn.model_selection import train_test_split\n"
   ]
  },
  {
   "cell_type": "markdown",
   "metadata": {},
   "source": [
    "Мною были распаршены несколько русскоязычных чатов, посвящённые яызкам программирования. При парсинге я учитывал только сниппеты, в которых больше английского, чем русского, потому что столкнулся с проблемой, что вставки с кодом использовались для цитат или условий задач (модель должна распознать такое, но поскольку я отмечаю это как код на языке чатика, это только ухудшает метрику на тесте). "
   ]
  },
  {
   "cell_type": "markdown",
   "metadata": {},
   "source": [
    "К сожалению, найти чат, по Mardown и Yaml не представилось возможным, поэтому в тестах на реальных сообщения они будут отсутствовать."
   ]
  },
  {
   "cell_type": "code",
   "execution_count": 2,
   "metadata": {},
   "outputs": [],
   "source": [
    "def count_russian_chars_fraction(text: str):\n",
    "    return len(re.findall('[\\u0400-\\u04FF]', text)) / len(text)"
   ]
  },
  {
   "cell_type": "code",
   "execution_count": 3,
   "metadata": {},
   "outputs": [
    {
     "name": "stdout",
     "output_type": "stream",
     "text": [
      "['exec(\"sudo -u bratsk /usr/bin/sshpass -p admin /usr/bin/ssh -o StrictHostKeyChecking=no root@192.168.0.102 sed -i \\'s/.*bitmain-freq1.*/\\\\\"${bar1}\\\\\"/\\' /config/221 sed -i \\'s/.*bitmain-freq3.*/\\\\\"${bar3}\\\\\"/\\' /config/221\");', '$bar1 = <<<EOT\\n\"\\\\\"\"bitmain-freq1\"\\\\\"\" : \"\\\\\"\"644466\"\\\\\"\",\\nEOT;\\n\\n$bar2 = <<<EOT\\n\"\\\\\"\"bitmain-freq2\"\\\\\"\" : \"\\\\\"\"666\"\\\\\"\",\\nEOT;\\n\\n$bar3 = <<<EOT\\n\"\\\\\"\"bitmain-freq3\"\\\\\"\" : \"\\\\\"\"666\"\\\\\"\",\\nEOT;', '\"bitmain-freq1\" : \"625\",\\n\"bitmain-freq2\" : \"625\",\\n\"bitmain-freq3\" : \"618\",', 'script_sql && \\\\\\nscript_php && \\\\\\nscript_jq & \\nsleep 15 \\nscript_sql2', 'script_sql && \\\\\\nscript_php \\nEXITCODE=$?\\nif [[ $EXITCODE == 0 ]]; then\\nscript_jq & \\nscript_sql2 &\\nfi', 'User \"postgres\" has no password assigned.\\nRole \"test\" does not exist.', 'exec(\"sudo -u bratsk /usr/bin/sshpass -p admin /usr/bin/ssh -o StrictHostKeyChecking=no root@192.168.0.102 \\'sed -i \\'s/.*bitmain-freq1.*/\\\\\"${bar1}\\\\\"/\\' /config/221\\'\", $output);', 'mount: /mnt: cannot remount /dev/sdb1 read-write, is write-protected.', '/dev/sdb1:\\n setting readonly to 0 (off)\\n readonly      =  0 (off)']\n",
      "BASH_1 got 1000008 messages, extracted 7908 snippets\n",
      "['template<typename T>\\nclass Singleton\\n{\\nprotected:\\n\\xa0\\xa0\\xa0 Singleton();\\n\\xa0\\xa0\\xa0 virtual ~Singleton();\\npublic:\\n\\xa0\\xa0\\xa0 static T& GetInstance()\\n\\xa0\\xa0\\xa0 {\\n\\xa0\\xa0\\xa0\\xa0\\xa0\\xa0\\xa0 static T instance;\\n\\xa0\\xa0\\xa0\\xa0\\xa0\\xa0\\xa0 return instance;\\n\\xa0\\xa0\\xa0 }\\n}', 'class Pipeline\\n{\\npublic:\\n\\xa0\\xa0\\xa0 void UseShader(const Shader&);\\n}\\n\\nclass Shader\\n{\\nprivate:\\n\\xa0\\xa0\\xa0 GLuint handle;\\n}', 'glEnable(GL_MULTISAMPLE);\\n\\xa0\\xa0\\xa0 GLuint colorRbo, depthRbo;\\n\\n\\xa0\\xa0\\xa0 glGenRenderbuffers(1, &colorRbo);\\n\\xa0\\xa0\\xa0 glBindRenderbuffer(GL_RENDERBUFFER, colorRbo);\\n\\xa0\\xa0\\xa0 glRenderbufferStorageMultisample(GL_RENDERBUFFER, 4, GL_RGBA8, 400, 300);\\n\\xa0\\xa0\\xa0 glBindRenderbuffer(GL_RENDERBUFFER, 0);\\n\\n\\xa0\\xa0\\xa0 glGenRenderbuffers(1, &depthRbo);\\n\\xa0\\xa0\\xa0 glBindRenderbuffer(GL_RENDERBUFFER, depthRbo);\\n\\xa0\\xa0\\xa0 glRenderbufferStorageMultisample(GL_RENDERBUFFER, 4, GL_DEPTH_COMPONENT, 400, 300);\\n\\xa0\\xa0\\xa0 glBindRenderbuffer(GL_RENDERBUFFER, 0);\\n\\n\\xa0\\xa0\\xa0 GLuint mainFbo;\\n\\xa0\\xa0\\xa0 glGenFramebuffers(1, &mainFbo);\\n\\xa0\\xa0\\xa0 glBindFramebuffer(GL_FRAMEBUFFER, mainFbo);\\n\\xa0\\xa0\\xa0 //glFramebufferTexture2D(GL_FRAMEBUFFER, GL_COLOR_ATTACHMENT0, GL_TEXTURE_2D, colorTex, 0);\\n\\xa0\\xa0\\xa0 glFramebufferRenderbuffer(GL_FRAMEBUFFER, GL_COLOR_ATTACHMENT0, GL_RENDERBUFFER, colorRbo);\\n\\xa0\\xa0\\xa0 glFramebufferRenderbuffer(GL_FRAMEBUFFER, GL_DEPTH_ATTACHMENT, GL_RENDERBUFFER, depthRbo);', 'class CallbackInterface\\n{\\n\\xa0\\xa0\\xa0 virtual void Callback(BaseObj& o) = 0;\\n};\\n\\nclass CallbackImpl\\n{\\n\\xa0\\xa0\\xa0 void Callback(BaseObj& o);\\n\\xa0\\xa0\\xa0 void Callback(Derived1& o);\\n\\xa0\\xa0\\xa0 void Callback(Derived2& o);\\n};\\n\\n\\nclass CalbackCaller\\n{\\n\\xa0\\xa0\\xa0 CallbackImpl* cimpl;\\n\\xa0\\xa0\\xa0 void Action() { cimpl.Callback(*this); }\\n};', 'ioctl(tty_fd, FIONREAD, &len);\\n      errsv = errno;\\n\\n      if(len == 0)\\n      {\\n         printf(\"prog_name: zero read from the device: %s.\", strerror(errsv));\\n         /* close fd and cleanup or reconnect etc...*/\\n         exit(EXIT_FAILURE);\\n      }', 'QString s = \"apple\";\\nQString t = s.rightJustified(8, \\'.\\');    // t == \"...apple\"', '--------------------------------------------------------------------------------\\nLanguage                      files          blank        comment           code\\n--------------------------------------------------------------------------------\\nC++                              34            944            707           4404\\nC/C++ Header                     37            366            689           2337', 'some_func()', 'def x() {\\n123\\n}']\n",
      "C_1 got 483275 messages, extracted 9156 snippets\n",
      "['data Some f where\\n\\xa0 Some :: f a -> Some f', \"Prelude> :t not . not\\nnot . not :: Bool -> Bool\\nPrelude> :t not $ not\\n\\n<interactive>:1:7: error:\\n\\xa0 \\xa0 • Couldn't match expected type ‘Bool’\\n\\xa0 \\xa0 \\xa0 \\xa0 \\xa0 \\xa0 \\xa0 \\xa0 \\xa0 with actual type ‘Bool -> Bool’\\n\\xa0 \\xa0 • Probable cause: ‘not’ is applied to too few arguments\\n\\xa0 \\xa0 \\xa0 In the second argument of ‘($)’, namely ‘not’\\n\\xa0 \\xa0 \\xa0 In the expression: not $ not\", \"Prelude> :info (->)\\ndata (->) a b   -- Defined in `GHC.Prim'\", 'import System.Process\\n\\ncoolTts :: String -> IO ProcessHandle\\ncoolTts x = runCommand $ \"powershell.exe .\\\\\\\\tts.ps1 \" ++ show x\\n\\nmain :: IO ()\\nmain = coolTts $ concat $ repeat \"sas\"', ', http-client\\n, HTTP\\n, optparse-generic-1.1.0', 'test', 'x `fun` y', 'f x\\n|> x f', \"import Data.List\\nimport Data.Bits\\n \\nfun :: Int -> Integer\\nfun n = snd . foldl' fib' (1, 0) . dropWhile not $\\n            [testBit n k | k <- let s = bitSize n in [s-1,s-2..0]]\\n    where\\n        fun' (f, g) p\\n            | p         = (f*(f+2*g), ss)\\n            | otherwise = (ss, g*(2*f-g))\\n            where ss = f*f+g*g\"]\n",
      "HASKELL_1 got 428478 messages, extracted 8011 snippets\n",
      "['let Person = function (name, yearOfBirth, job) {\\n  this.name = name;\\n  this.yearOfBirth = yearOfBirth;\\n  this.job = job;\\n  this.calculateAge = function () {\\n    console.log(2019 - this.yearOfBirth);\\n  }\\n};\\n\\n', 'const uniqueInOrder = iterable => [...iterable]\\n  .reduce((s, v) => (\\n    (s[s.length-1] === v || s.push(v)), s\\n  ), [])', 'const feast = (...args) => (\\n  args = args\\n  .map(a => a\\n    .match(/(.).*(.)/)\\n    .slice(1)\\n    .join(\"\")) ,\\n  args[0] === args[1]\\n)', 'const feast = (...args) => (\\n  args = args\\n  .map(a => a\\n    .replace(/(.).*(.)/, \"$1$2\")),\\n  args[0] === args[1]\\n)', 'R.map(R.compose(\\n    R.add(2),\\n    R.multiply(2),\\n    R.inc\\n  ))', 'alert(`Your name ${name}`);', '$(`[href$=\"${window.location.pathname}\"]`)', 'setTimeout(function slavikkrut() {\\n     $(\\'.navbar-nav>li>a.current-link\\').removeAttr(\"href\");\\n}, 3000);', '$(function() {\\n});']\n",
      "JAVASCRIPT_1 got 234973 messages, extracted 2847 snippets\n",
      "['new Cat();', 'Cat cat1;', 'static byte[] convertTo1bit_PixelFormatType4(byte[] picData, int w, int h)\\n\\n{\\n\\nbyte[] newPicData = new byte[picData.length / 8];\\n\\nint row = 30, s = 1;\\n\\nfor (i = 0; i < picData.length; i += 16)\\n\\n{\\n\\nnewPicData[row-s] = (byte)( ((picData[i + 6 ] << 7) & 0x80) |\\n\\n((picData[i + 14] << 6) & 0x40) |\\n\\n((picData[i + 4 ] << 5) & 0x20) |\\n\\n((picData[i + 12] << 4) & 0x10) |\\n\\n((picData[i + 2 ] << 3) & 0x08) |\\n\\n((picData[i + 10] << 2) & 0x04) | ((picData[i + 0\\n\\n] << 1) & 0x02) | ((picData[i + 8 ] << 0) & 0x01));\\n\\nnewPicData[row+30-s] = (byte) ( ((picData[i + 1 ] << 7) & 0x80) |\\n\\n((picData[i + 9 ] << 6) & 0x40) |\\n\\n((picData[i + 3 ] << 5) & 0x20) | ((picData[i +\\n\\n11] << 4) & 0x10) | ((picData[i + 5 ] << 3) & 0x08) |\\n\\n((picData[i + 13] << 2) & 0x04) |\\n\\n((picData[i + 7 ] << 1) & 0x02) | ((picData[i + 15] << 0) & 0x01));\\n\\ns++;\\n\\nif(s==31)\\n\\n{\\n\\ns=1; row+=60;\\n\\n}\\n\\n}\\n\\nreturn newPicData;\\n\\n}', 'D/BluetoothAdapter: onScanResult()', 'D/BluetoothAdapter: onScanResult()', 'String[]callAndArgs= {\"python\",\"/home/Users/newman/energy/testfolder/test.py\"};', '        Runtime runtime = Runtime.getRuntime();', '        Process p = runtime.exec(callAndArgs);', '$ python test.py']\n",
      "JAVA_1 got 176554 messages, extracted 1927 snippets\n",
      "['client.get<String>', 'val json = Json.nonstrict.parse(\\n                deserializer = RoomModel.serializer().list,\\n                string = result\\n            )\\n\\n            println(json)\\n\\n            callback.invoke(json)', '@Serializable\\ndata class User: RoomProfile(\\n    @SerialName(\"id\")\\n    val userID: String,\\n) {\\n    override val profileID: String\\n    get() = userID\\n}', '@Serializable\\ndata class User(\\n    @SerialName(\"id\")\\n    val userID: String,\\n): RoomProfile {\\n    override val profileID: String\\n    get() = userID\\n}', \"Field 'profileID' is required, but it was missing\", 'val response = client.post<HttpResponse> {', 'suspend inline fun PipelineContext<*, ApplicationCall>.receiveUTF8Text(): String =\\n    call.receiveChannel().toByteArray().toString(Charsets.UTF_8)', 'response.content.toByteArray().toString(Charsets.UTF_8)', 'sortedRoomList = value.sortedWith(\\n                    compareBy ({\\n                        it.pin\\n                    }, {\\n                        it.updatedAt\\n                    })\\n                )']\n",
      "KOTLIN_1 got 119133 messages, extracted 2548 snippets\n",
      "[\"dictionary = {'key1': 'значение1', 'key2': 'значение2', 'key3': 'значение3','key4': ''}\\nout_str = ''\\nfor key,value in dictionary.items():\\n    if len(value):\\n        out_str += f'{key}:{value}\\\\n'\\n\\nprint(out_str)\", \"dictionary = {'key1': 'значение1', 'key2': 'значение2', 'key3': 'значение3','key4': ''}\\nkeylabels = {'key1': 'Ключ1', 'key2': 'Ключ2', 'key3': 'Ключ3','key4': 'Ключ4'}\\nout_str = ''\\nfor key,value in dictionary.items():\\n    if len(value):\\n        out_str += f'{keylabels[key]}:{value}\\\\n'\\n\\nprint(out_str)\", \"dictionary = {'key1': 'значение1', 'key2': 'значение2', 'key3': 'значение3','key4': ''}\\nkeylabels = {'key1': 'Ключ1', 'key2': 'Ключ2', 'key3': 'Ключ3','key4': 'Ключ4'}\\nout_str = ''.join([f'{keylabels[key]}:{value}\\\\n' if len(value) else '' for key,value in dictionary.items()])\\n\\nprint(out_str)\", 'tishka17@hippo:~/src/tmp$ python3 rnd.py \\n48/100\\ntishka17@hippo:~/src/tmp$ python3 rnd.py \\n43/100\\ntishka17@hippo:~/src/tmp$ python3 rnd.py \\n51/100\\ntishka17@hippo:~/src/tmp$ python3 rnd.py \\n56/100\\ntishka17@hippo:~/src/tmp$ python3 rnd.py \\n51/100\\ntishka17@hippo:~/src/tmp$ cat rnd.py \\nimport random\\nn = 100\\nones = 0\\nfor __ in range(n):\\n    r = random.randint(0, 1)\\n    if r:\\n        ones += 1\\nprint(f\"{ones}/{n}\")', 'import random\\nprint(sum(random.randint(0, 1) for _ in range(100)))', '\\nimport numpy as np\\nimport random  # для рандомов\\nimport datetime  # для счетчика времени\\nimport matplotlib.pyplot as plt\\n\\n\\ndef fib(n):\\n    startTime = datetime.datetime.now()\\n    counter = 0\\n    increments = 0\\n    decrements = 0\\n    a = 0\\n    b = 1\\n    for __ in range(n):\\n        r = random.randint(0, 1)\\n        if (r == 0):\\n            a, b = b, a + b\\n            increments += 1\\n        elif (r == 1):\\n            a, b = b, a - b\\n            decrements += 1\\n        counter += 1\\n        print(\"Iteration: \" + str(counter) + \" fib: \" + str(a))\\n    print(\"TOTAL:\\\\tIncrements: \" + str(increments) + \"\\\\tDecrements: \" + str(decrements))\\n    print(\"\\\\ntime for operation: \" + str(datetime.datetime.now() - startTime))\\n    return a\\n\\n\\nfib(100)', 'a959e30 (HEAD -> develop, origin/develop) HEAD@{0}: checkout: moving from feat-DEV-84420 to develop\\ndacf86f (origin/feat-DEV-84420, feat-DEV-84420) HEAD@{1}: reset: moving to HEAD', 'def create_config(page): \\n   return {...}\\n', 'from config import create_config\\n\\npage=1\\ncfg = create_config(page)\\n\\n...\\npage +=1 \\ncfg = create_config(page)']\n",
      "PYTHON_1 got 1000484 messages, extracted 17236 snippets\n"
     ]
    }
   ],
   "source": [
    "CHATS_DUMP_PATH = os.path.join('..', 'data', 'tg_chats')\n",
    "DATA_PATH = os.path.join('..', 'data', 'code_snippets')\n",
    "\n",
    "for chat_name in os.listdir(CHATS_DUMP_PATH):\n",
    "    if os.path.isdir(os.path.join(CHATS_DUMP_PATH, chat_name)):\n",
    "        json = pd.read_json(os.path.join(CHATS_DUMP_PATH, chat_name, 'result.json'))\n",
    "        messages = list(json['messages'])\n",
    "        text_etities = list([m['text_entities'] for m in messages if m['type'] == 'message'])\n",
    "        text_etities_flat = [item for sublist in text_etities for item in sublist]\n",
    "        code_snippets = [d['text'] for d in text_etities_flat if d.get(\"type\") == \"pre\" and count_russian_chars_fraction(d['text']) < 0.5]\n",
    "        print(code_snippets[1:10])\n",
    "        df = pd.DataFrame()\n",
    "        df['snippets'] = code_snippets\n",
    "        df.to_csv(os.path.join(DATA_PATH, chat_name + '.csv'))\n",
    "        print(chat_name, \"got\", len(messages), 'messages, extracted', len(code_snippets), 'snippets')"
   ]
  },
  {
   "cell_type": "markdown",
   "metadata": {},
   "source": [
    "Также сделаем датасет из сообщений без кода из чатика, например, по Котлину."
   ]
  },
  {
   "cell_type": "code",
   "execution_count": 4,
   "metadata": {},
   "outputs": [
    {
     "name": "stdout",
     "output_type": "stream",
     "text": [
      "['Не обязательно. Ты же на сервере можешь куда посылать хттп запросы ещё', ' тут имеет смысл Http Server/Client. А вот Client уже может быть и на сервере, и на мобильном телефоне и на страничке на фронте', 'Я не думаю, что человека сильно интересует коммуникация между сервисами в рамках кластера, но в целом неправ, согласен.', 'Так то прочёл со своим плохеньким английским, что то про сторонние сервисы,  но зачем разделено на серверс и клиентс, не въехал.', 'Клиент -- штукая которая умеет делать хттп запросы, сервер -- отвечать на них.', 'Почему в рамках кластера то? Куча бекендов  делают запросы во вне, это очень распространенная практика', 'Ну там поступаться в АПИ Амазона/ВКонтакте/Гугла и ТД', 'Ладно, сдаюсь, я совсем уже к вечеру сварился и несу чушь.', 'Всем привет\\n\\n    companion object {\\n        const val EXTRA_MESSAGE = \"message\"\\n    }\\n\\nТут нужно писать const или так как и так static + val - уже все хорошо?']\n",
      "PYTHON_1 got 119133 messages, extracted 72218 snippets\n"
     ]
    },
    {
     "data": {
      "text/plain": [
       "(                                                snippets\n",
       " 37534  Var action = \"\"\\nWhile action != \"Exit\"){\\nAct...\n",
       " 57223  Здраствуйте пишу простую программу хочу что ск...\n",
       " 32913          Это уже из раздела про лямбды с ресивером\n",
       " 27424  вероятнее всего что пройтись по всему массиву ...\n",
       " 68081  Не надо спамить непроверенными ссылками в непр...\n",
       " ...                                                  ...\n",
       " 5582   Модификатор inline не меняет семантику кода, е...\n",
       " 69377  Не, я к тому, что интересно было сравнить прои...\n",
       " 64924  Вроде бы уже были попытки создания таких униве...\n",
       " 18585  Это может быть что угодно. нажмите на ссылочку...\n",
       " 67004  Но проблема же в том, что у нас у андроида гла...\n",
       " \n",
       " [7222 rows x 1 columns],\n",
       "                                                  content   type\n",
       " 14405  Ввожу 5 символов. Затем я перезапускаю код и в...  other\n",
       " 35068  Код вообще недорабатан. Вам стоит пройтись по ...  other\n",
       " 70829  как не причина если эта покраска накладывает о...  other\n",
       " 12467  Ну и если в серьез, то надо использовать JMH и...  other\n",
       " 37279  ветку else в when добавить и там проиниализиро...  other\n",
       " ...                                                  ...    ...\n",
       " 28061  Разрабатываете 😳 ? Открытый проект ? MicroSCAD...  other\n",
       " 58907  Можно ли еще что-либо оптимизировать при такой...  other\n",
       " 39982  Попробуйте через IDE  проходить курс, гораздо ...  other\n",
       " 64998  В этом чате недавно было, что можно немного по...  other\n",
       " 57925     А какое отношение имеет скрипта к этому чату?)  other\n",
       " \n",
       " [28887 rows x 2 columns])"
      ]
     },
     "execution_count": 4,
     "metadata": {},
     "output_type": "execute_result"
    }
   ],
   "source": [
    "json = pd.read_json(os.path.join(CHATS_DUMP_PATH, 'KOTLIN_1', 'result.json'))\n",
    "messages = list(json['messages'])\n",
    "text_etities = list([m['text_entities'] for m in messages if m['type'] == 'message'])\n",
    "text_etities_flat = [item for sublist in text_etities for item in sublist]\n",
    "text_snippets = [d['text'] for d in text_etities_flat if d.get(\"type\") == \"plain\" and len(d['text']) > 40]\n",
    "print(text_snippets[1:10])\n",
    "df = pd.DataFrame()\n",
    "df['snippets'] = text_snippets\n",
    "\n",
    "train, test = train_test_split(df, test_size=0.1, train_size=0.4, random_state=0)\n",
    "\n",
    "train['content'] = train['snippets']\n",
    "train['type'] = 'other'\n",
    "train = train.drop(columns=['snippets'])\n",
    "\n",
    "train.to_csv(os.path.join('..', 'data','OTHER.csv'))\n",
    "test.to_csv(os.path.join(DATA_PATH, 'OTHER_1.csv'))\n",
    "print(chat_name, \"got\", len(messages), 'messages, extracted', len(text_snippets), 'snippets')\n",
    "test, train"
   ]
  }
 ],
 "metadata": {
  "kernelspec": {
   "display_name": "base",
   "language": "python",
   "name": "python3"
  },
  "language_info": {
   "codemirror_mode": {
    "name": "ipython",
    "version": 3
   },
   "file_extension": ".py",
   "mimetype": "text/x-python",
   "name": "python",
   "nbconvert_exporter": "python",
   "pygments_lexer": "ipython3",
   "version": "3.11.5"
  }
 },
 "nbformat": 4,
 "nbformat_minor": 2
}
