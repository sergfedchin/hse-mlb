{
 "cells": [
  {
   "cell_type": "code",
   "execution_count": 1,
   "metadata": {},
   "outputs": [],
   "source": [
    "import pandas as pd\n",
    "import numpy as np\n",
    "import os\n",
    "import re"
   ]
  },
  {
   "cell_type": "markdown",
   "metadata": {},
   "source": [
    "Используем датасет кусочков кода с GitHub и сообщения без кода для обучения."
   ]
  },
  {
   "cell_type": "code",
   "execution_count": 2,
   "metadata": {},
   "outputs": [
    {
     "data": {
      "text/html": [
       "<div>\n",
       "<style scoped>\n",
       "    .dataframe tbody tr th:only-of-type {\n",
       "        vertical-align: middle;\n",
       "    }\n",
       "\n",
       "    .dataframe tbody tr th {\n",
       "        vertical-align: top;\n",
       "    }\n",
       "\n",
       "    .dataframe thead th {\n",
       "        text-align: right;\n",
       "    }\n",
       "</style>\n",
       "<table border=\"1\" class=\"dataframe\">\n",
       "  <thead>\n",
       "    <tr style=\"text-align: right;\">\n",
       "      <th></th>\n",
       "      <th>content</th>\n",
       "      <th>type</th>\n",
       "    </tr>\n",
       "  </thead>\n",
       "  <tbody>\n",
       "    <tr>\n",
       "      <th>0</th>\n",
       "      <td>// Utility.cs\\n//\\n\\nusing System;\\nusing Syst...</td>\n",
       "      <td>cs</td>\n",
       "    </tr>\n",
       "    <tr>\n",
       "      <th>1</th>\n",
       "      <td>\\n{$options.identity.sitename} - Your Accounts...</td>\n",
       "      <td>txt</td>\n",
       "    </tr>\n",
       "    <tr>\n",
       "      <th>2</th>\n",
       "      <td>{\\n  \"name\": \"opulence/sessions\",\\n  \"descript...</td>\n",
       "      <td>json</td>\n",
       "    </tr>\n",
       "    <tr>\n",
       "      <th>3</th>\n",
       "      <td>package io.mycat.backend.postgresql.packet;\\n\\...</td>\n",
       "      <td>java</td>\n",
       "    </tr>\n",
       "    <tr>\n",
       "      <th>4</th>\n",
       "      <td>TAPi18n._afterUILanguageChange = function() {\\...</td>\n",
       "      <td>js</td>\n",
       "    </tr>\n",
       "    <tr>\n",
       "      <th>...</th>\n",
       "      <td>...</td>\n",
       "      <td>...</td>\n",
       "    </tr>\n",
       "    <tr>\n",
       "      <th>28882</th>\n",
       "      <td>Разрабатываете 😳 ? Открытый проект ? MicroSCAD...</td>\n",
       "      <td>other</td>\n",
       "    </tr>\n",
       "    <tr>\n",
       "      <th>28883</th>\n",
       "      <td>Можно ли еще что-либо оптимизировать при такой...</td>\n",
       "      <td>other</td>\n",
       "    </tr>\n",
       "    <tr>\n",
       "      <th>28884</th>\n",
       "      <td>Попробуйте через IDE  проходить курс, гораздо ...</td>\n",
       "      <td>other</td>\n",
       "    </tr>\n",
       "    <tr>\n",
       "      <th>28885</th>\n",
       "      <td>В этом чате недавно было, что можно немного по...</td>\n",
       "      <td>other</td>\n",
       "    </tr>\n",
       "    <tr>\n",
       "      <th>28886</th>\n",
       "      <td>А какое отношение имеет скрипта к этому чату?)</td>\n",
       "      <td>other</td>\n",
       "    </tr>\n",
       "  </tbody>\n",
       "</table>\n",
       "<p>711121 rows × 2 columns</p>\n",
       "</div>"
      ],
      "text/plain": [
       "                                                 content   type\n",
       "0      // Utility.cs\\n//\\n\\nusing System;\\nusing Syst...     cs\n",
       "1      \\n{$options.identity.sitename} - Your Accounts...    txt\n",
       "2      {\\n  \"name\": \"opulence/sessions\",\\n  \"descript...   json\n",
       "3      package io.mycat.backend.postgresql.packet;\\n\\...   java\n",
       "4      TAPi18n._afterUILanguageChange = function() {\\...     js\n",
       "...                                                  ...    ...\n",
       "28882  Разрабатываете 😳 ? Открытый проект ? MicroSCAD...  other\n",
       "28883  Можно ли еще что-либо оптимизировать при такой...  other\n",
       "28884  Попробуйте через IDE  проходить курс, гораздо ...  other\n",
       "28885  В этом чате недавно было, что можно немного по...  other\n",
       "28886     А какое отношение имеет скрипта к этому чату?)  other\n",
       "\n",
       "[711121 rows x 2 columns]"
      ]
     },
     "execution_count": 2,
     "metadata": {},
     "output_type": "execute_result"
    }
   ],
   "source": [
    "code_df = pd.read_csv(os.path.join('..', 'data', 'GITHUB_CODE.csv'))\n",
    "msg_df = pd.read_csv(os.path.join('..', 'data', 'OTHER.csv'))\n",
    "init_df = pd.concat((code_df, msg_df))\n",
    "init_df = init_df.drop(columns=['Unnamed: 0'])\n",
    "init_df"
   ]
  },
  {
   "cell_type": "markdown",
   "metadata": {},
   "source": [
    "Вычленним только те яыки, которые нас интересуют"
   ]
  },
  {
   "cell_type": "code",
   "execution_count": 3,
   "metadata": {},
   "outputs": [
    {
     "data": {
      "text/html": [
       "<div>\n",
       "<style scoped>\n",
       "    .dataframe tbody tr th:only-of-type {\n",
       "        vertical-align: middle;\n",
       "    }\n",
       "\n",
       "    .dataframe tbody tr th {\n",
       "        vertical-align: top;\n",
       "    }\n",
       "\n",
       "    .dataframe thead th {\n",
       "        text-align: right;\n",
       "    }\n",
       "</style>\n",
       "<table border=\"1\" class=\"dataframe\">\n",
       "  <thead>\n",
       "    <tr style=\"text-align: right;\">\n",
       "      <th></th>\n",
       "      <th>content</th>\n",
       "      <th>type</th>\n",
       "    </tr>\n",
       "  </thead>\n",
       "  <tbody>\n",
       "    <tr>\n",
       "      <th>3</th>\n",
       "      <td>package io.mycat.backend.postgresql.packet;\\n\\...</td>\n",
       "      <td>java</td>\n",
       "    </tr>\n",
       "    <tr>\n",
       "      <th>4</th>\n",
       "      <td>TAPi18n._afterUILanguageChange = function() {\\...</td>\n",
       "      <td>js</td>\n",
       "    </tr>\n",
       "    <tr>\n",
       "      <th>6</th>\n",
       "      <td>/**\\n * \\n */\\npackage org.openrtb.dsp.intf.mo...</td>\n",
       "      <td>java</td>\n",
       "    </tr>\n",
       "    <tr>\n",
       "      <th>12</th>\n",
       "      <td>import Promise from 'bluebird';\\n\\nconst ONE_S...</td>\n",
       "      <td>js</td>\n",
       "    </tr>\n",
       "    <tr>\n",
       "      <th>22</th>\n",
       "      <td>//&gt;&gt;built\\ndefine(\\n//begin v1.x content\\n({\\n...</td>\n",
       "      <td>js</td>\n",
       "    </tr>\n",
       "    <tr>\n",
       "      <th>...</th>\n",
       "      <td>...</td>\n",
       "      <td>...</td>\n",
       "    </tr>\n",
       "    <tr>\n",
       "      <th>28882</th>\n",
       "      <td>Разрабатываете 😳 ? Открытый проект ? MicroSCAD...</td>\n",
       "      <td>other</td>\n",
       "    </tr>\n",
       "    <tr>\n",
       "      <th>28883</th>\n",
       "      <td>Можно ли еще что-либо оптимизировать при такой...</td>\n",
       "      <td>other</td>\n",
       "    </tr>\n",
       "    <tr>\n",
       "      <th>28884</th>\n",
       "      <td>Попробуйте через IDE  проходить курс, гораздо ...</td>\n",
       "      <td>other</td>\n",
       "    </tr>\n",
       "    <tr>\n",
       "      <th>28885</th>\n",
       "      <td>В этом чате недавно было, что можно немного по...</td>\n",
       "      <td>other</td>\n",
       "    </tr>\n",
       "    <tr>\n",
       "      <th>28886</th>\n",
       "      <td>А какое отношение имеет скрипта к этому чату?)</td>\n",
       "      <td>other</td>\n",
       "    </tr>\n",
       "  </tbody>\n",
       "</table>\n",
       "<p>183156 rows × 2 columns</p>\n",
       "</div>"
      ],
      "text/plain": [
       "                                                 content   type\n",
       "3      package io.mycat.backend.postgresql.packet;\\n\\...   java\n",
       "4      TAPi18n._afterUILanguageChange = function() {\\...     js\n",
       "6      /**\\n * \\n */\\npackage org.openrtb.dsp.intf.mo...   java\n",
       "12     import Promise from 'bluebird';\\n\\nconst ONE_S...     js\n",
       "22     //>>built\\ndefine(\\n//begin v1.x content\\n({\\n...     js\n",
       "...                                                  ...    ...\n",
       "28882  Разрабатываете 😳 ? Открытый проект ? MicroSCAD...  other\n",
       "28883  Можно ли еще что-либо оптимизировать при такой...  other\n",
       "28884  Попробуйте через IDE  проходить курс, гораздо ...  other\n",
       "28885  В этом чате недавно было, что можно немного по...  other\n",
       "28886     А какое отношение имеет скрипта к этому чату?)  other\n",
       "\n",
       "[183156 rows x 2 columns]"
      ]
     },
     "execution_count": 3,
     "metadata": {},
     "output_type": "execute_result"
    }
   ],
   "source": [
    "values_to_filter = ['py', 'cpp', 'js', 'java', 'yaml', 'bash', 'sh', 'markdown', 'md', 'c', 'kt', 'hs', 'other']\n",
    "df = init_df[init_df['type'].isin(values_to_filter)]\n",
    "df"
   ]
  },
  {
   "cell_type": "code",
   "execution_count": 4,
   "metadata": {},
   "outputs": [
    {
     "name": "stderr",
     "output_type": "stream",
     "text": [
      "C:\\Users\\sergf\\AppData\\Local\\Temp\\ipykernel_19996\\4077853206.py:1: SettingWithCopyWarning: \n",
      "A value is trying to be set on a copy of a slice from a DataFrame\n",
      "\n",
      "See the caveats in the documentation: https://pandas.pydata.org/pandas-docs/stable/user_guide/indexing.html#returning-a-view-versus-a-copy\n",
      "  df.loc[df['type'] == 'py', 'type'] = 'PYTHON'\n",
      "C:\\Users\\sergf\\AppData\\Local\\Temp\\ipykernel_19996\\4077853206.py:2: SettingWithCopyWarning: \n",
      "A value is trying to be set on a copy of a slice from a DataFrame\n",
      "\n",
      "See the caveats in the documentation: https://pandas.pydata.org/pandas-docs/stable/user_guide/indexing.html#returning-a-view-versus-a-copy\n",
      "  df.loc[(df['type'] == 'sh') | (df['type'] == 'bash'), 'type'] = 'BASH'\n",
      "C:\\Users\\sergf\\AppData\\Local\\Temp\\ipykernel_19996\\4077853206.py:3: SettingWithCopyWarning: \n",
      "A value is trying to be set on a copy of a slice from a DataFrame\n",
      "\n",
      "See the caveats in the documentation: https://pandas.pydata.org/pandas-docs/stable/user_guide/indexing.html#returning-a-view-versus-a-copy\n",
      "  df.loc[df['type'] == 'c', 'type'] = 'C'\n",
      "C:\\Users\\sergf\\AppData\\Local\\Temp\\ipykernel_19996\\4077853206.py:4: SettingWithCopyWarning: \n",
      "A value is trying to be set on a copy of a slice from a DataFrame\n",
      "\n",
      "See the caveats in the documentation: https://pandas.pydata.org/pandas-docs/stable/user_guide/indexing.html#returning-a-view-versus-a-copy\n",
      "  df.loc[df['type'] == 'cpp', 'type'] = 'CPP'\n",
      "C:\\Users\\sergf\\AppData\\Local\\Temp\\ipykernel_19996\\4077853206.py:5: SettingWithCopyWarning: \n",
      "A value is trying to be set on a copy of a slice from a DataFrame\n",
      "\n",
      "See the caveats in the documentation: https://pandas.pydata.org/pandas-docs/stable/user_guide/indexing.html#returning-a-view-versus-a-copy\n",
      "  df.loc[df['type'] == 'hs', 'type'] = 'HASKELL'\n",
      "C:\\Users\\sergf\\AppData\\Local\\Temp\\ipykernel_19996\\4077853206.py:6: SettingWithCopyWarning: \n",
      "A value is trying to be set on a copy of a slice from a DataFrame\n",
      "\n",
      "See the caveats in the documentation: https://pandas.pydata.org/pandas-docs/stable/user_guide/indexing.html#returning-a-view-versus-a-copy\n",
      "  df.loc[df['type'] == 'java', 'type'] = 'JAVA'\n",
      "C:\\Users\\sergf\\AppData\\Local\\Temp\\ipykernel_19996\\4077853206.py:7: SettingWithCopyWarning: \n",
      "A value is trying to be set on a copy of a slice from a DataFrame\n",
      "\n",
      "See the caveats in the documentation: https://pandas.pydata.org/pandas-docs/stable/user_guide/indexing.html#returning-a-view-versus-a-copy\n",
      "  df.loc[df['type'] == 'js', 'type'] = 'JAVASCRIPT'\n",
      "C:\\Users\\sergf\\AppData\\Local\\Temp\\ipykernel_19996\\4077853206.py:8: SettingWithCopyWarning: \n",
      "A value is trying to be set on a copy of a slice from a DataFrame\n",
      "\n",
      "See the caveats in the documentation: https://pandas.pydata.org/pandas-docs/stable/user_guide/indexing.html#returning-a-view-versus-a-copy\n",
      "  df.loc[df['type'] == 'kt', 'type'] = 'KOTLIN'\n",
      "C:\\Users\\sergf\\AppData\\Local\\Temp\\ipykernel_19996\\4077853206.py:9: SettingWithCopyWarning: \n",
      "A value is trying to be set on a copy of a slice from a DataFrame\n",
      "\n",
      "See the caveats in the documentation: https://pandas.pydata.org/pandas-docs/stable/user_guide/indexing.html#returning-a-view-versus-a-copy\n",
      "  df.loc[(df['type'] == 'markdown') | (df['type'] == 'md'), 'type'] = 'MARKDOWN'\n",
      "C:\\Users\\sergf\\AppData\\Local\\Temp\\ipykernel_19996\\4077853206.py:10: SettingWithCopyWarning: \n",
      "A value is trying to be set on a copy of a slice from a DataFrame\n",
      "\n",
      "See the caveats in the documentation: https://pandas.pydata.org/pandas-docs/stable/user_guide/indexing.html#returning-a-view-versus-a-copy\n",
      "  df.loc[df['type'] == 'yaml', 'type'] = 'YAML'\n",
      "C:\\Users\\sergf\\AppData\\Local\\Temp\\ipykernel_19996\\4077853206.py:11: SettingWithCopyWarning: \n",
      "A value is trying to be set on a copy of a slice from a DataFrame\n",
      "\n",
      "See the caveats in the documentation: https://pandas.pydata.org/pandas-docs/stable/user_guide/indexing.html#returning-a-view-versus-a-copy\n",
      "  df.loc[df['type'] == 'other', 'type'] = 'OTHER'\n"
     ]
    }
   ],
   "source": [
    "df.loc[df['type'] == 'py', 'type'] = 'PYTHON' \n",
    "df.loc[(df['type'] == 'sh') | (df['type'] == 'bash'), 'type'] = 'BASH'\n",
    "df.loc[df['type'] == 'c', 'type'] = 'C'\n",
    "df.loc[df['type'] == 'cpp', 'type'] = 'CPP'\n",
    "df.loc[df['type'] == 'hs', 'type'] = 'HASKELL'\n",
    "df.loc[df['type'] == 'java', 'type'] = 'JAVA'\n",
    "df.loc[df['type'] == 'js', 'type'] = 'JAVASCRIPT'\n",
    "df.loc[df['type'] == 'kt', 'type'] = 'KOTLIN'\n",
    "df.loc[(df['type'] == 'markdown') | (df['type'] == 'md'), 'type'] = 'MARKDOWN'\n",
    "df.loc[df['type'] == 'yaml', 'type'] = 'YAML'\n",
    "df.loc[df['type'] == 'other', 'type'] = 'OTHER'"
   ]
  },
  {
   "cell_type": "code",
   "execution_count": 5,
   "metadata": {},
   "outputs": [
    {
     "data": {
      "text/html": [
       "<div>\n",
       "<style scoped>\n",
       "    .dataframe tbody tr th:only-of-type {\n",
       "        vertical-align: middle;\n",
       "    }\n",
       "\n",
       "    .dataframe tbody tr th {\n",
       "        vertical-align: top;\n",
       "    }\n",
       "\n",
       "    .dataframe thead th {\n",
       "        text-align: right;\n",
       "    }\n",
       "</style>\n",
       "<table border=\"1\" class=\"dataframe\">\n",
       "  <thead>\n",
       "    <tr style=\"text-align: right;\">\n",
       "      <th></th>\n",
       "      <th>content</th>\n",
       "      <th>type</th>\n",
       "    </tr>\n",
       "  </thead>\n",
       "  <tbody>\n",
       "    <tr>\n",
       "      <th>3</th>\n",
       "      <td>package io.mycat.backend.postgresql.packet;\\n\\...</td>\n",
       "      <td>JAVA</td>\n",
       "    </tr>\n",
       "    <tr>\n",
       "      <th>4</th>\n",
       "      <td>TAPi18n._afterUILanguageChange = function() {\\...</td>\n",
       "      <td>JAVASCRIPT</td>\n",
       "    </tr>\n",
       "    <tr>\n",
       "      <th>6</th>\n",
       "      <td>/**\\n * \\n */\\npackage org.openrtb.dsp.intf.mo...</td>\n",
       "      <td>JAVA</td>\n",
       "    </tr>\n",
       "    <tr>\n",
       "      <th>12</th>\n",
       "      <td>import Promise from 'bluebird';\\n\\nconst ONE_S...</td>\n",
       "      <td>JAVASCRIPT</td>\n",
       "    </tr>\n",
       "    <tr>\n",
       "      <th>22</th>\n",
       "      <td>//&gt;&gt;built\\ndefine(\\n//begin v1.x content\\n({\\n...</td>\n",
       "      <td>JAVASCRIPT</td>\n",
       "    </tr>\n",
       "    <tr>\n",
       "      <th>...</th>\n",
       "      <td>...</td>\n",
       "      <td>...</td>\n",
       "    </tr>\n",
       "    <tr>\n",
       "      <th>28882</th>\n",
       "      <td>Разрабатываете 😳 ? Открытый проект ? MicroSCAD...</td>\n",
       "      <td>OTHER</td>\n",
       "    </tr>\n",
       "    <tr>\n",
       "      <th>28883</th>\n",
       "      <td>Можно ли еще что-либо оптимизировать при такой...</td>\n",
       "      <td>OTHER</td>\n",
       "    </tr>\n",
       "    <tr>\n",
       "      <th>28884</th>\n",
       "      <td>Попробуйте через IDE  проходить курс, гораздо ...</td>\n",
       "      <td>OTHER</td>\n",
       "    </tr>\n",
       "    <tr>\n",
       "      <th>28885</th>\n",
       "      <td>В этом чате недавно было, что можно немного по...</td>\n",
       "      <td>OTHER</td>\n",
       "    </tr>\n",
       "    <tr>\n",
       "      <th>28886</th>\n",
       "      <td>А какое отношение имеет скрипта к этому чату?)</td>\n",
       "      <td>OTHER</td>\n",
       "    </tr>\n",
       "  </tbody>\n",
       "</table>\n",
       "<p>183156 rows × 2 columns</p>\n",
       "</div>"
      ],
      "text/plain": [
       "                                                 content        type\n",
       "3      package io.mycat.backend.postgresql.packet;\\n\\...        JAVA\n",
       "4      TAPi18n._afterUILanguageChange = function() {\\...  JAVASCRIPT\n",
       "6      /**\\n * \\n */\\npackage org.openrtb.dsp.intf.mo...        JAVA\n",
       "12     import Promise from 'bluebird';\\n\\nconst ONE_S...  JAVASCRIPT\n",
       "22     //>>built\\ndefine(\\n//begin v1.x content\\n({\\n...  JAVASCRIPT\n",
       "...                                                  ...         ...\n",
       "28882  Разрабатываете 😳 ? Открытый проект ? MicroSCAD...       OTHER\n",
       "28883  Можно ли еще что-либо оптимизировать при такой...       OTHER\n",
       "28884  Попробуйте через IDE  проходить курс, гораздо ...       OTHER\n",
       "28885  В этом чате недавно было, что можно немного по...       OTHER\n",
       "28886     А какое отношение имеет скрипта к этому чату?)       OTHER\n",
       "\n",
       "[183156 rows x 2 columns]"
      ]
     },
     "execution_count": 5,
     "metadata": {},
     "output_type": "execute_result"
    }
   ],
   "source": [
    "df"
   ]
  },
  {
   "cell_type": "code",
   "execution_count": 6,
   "metadata": {},
   "outputs": [
    {
     "name": "stderr",
     "output_type": "stream",
     "text": [
      "C:\\Users\\sergf\\AppData\\Local\\Temp\\ipykernel_19996\\1201140344.py:24: SettingWithCopyWarning: \n",
      "A value is trying to be set on a copy of a slice from a DataFrame.\n",
      "Try using .loc[row_indexer,col_indexer] = value instead\n",
      "\n",
      "See the caveats in the documentation: https://pandas.pydata.org/pandas-docs/stable/user_guide/indexing.html#returning-a-view-versus-a-copy\n",
      "  df['type'] = df['type'].map(lang_to_int)\n"
     ]
    },
    {
     "data": {
      "text/html": [
       "<div>\n",
       "<style scoped>\n",
       "    .dataframe tbody tr th:only-of-type {\n",
       "        vertical-align: middle;\n",
       "    }\n",
       "\n",
       "    .dataframe tbody tr th {\n",
       "        vertical-align: top;\n",
       "    }\n",
       "\n",
       "    .dataframe thead th {\n",
       "        text-align: right;\n",
       "    }\n",
       "</style>\n",
       "<table border=\"1\" class=\"dataframe\">\n",
       "  <thead>\n",
       "    <tr style=\"text-align: right;\">\n",
       "      <th></th>\n",
       "      <th>content</th>\n",
       "      <th>type</th>\n",
       "    </tr>\n",
       "  </thead>\n",
       "  <tbody>\n",
       "    <tr>\n",
       "      <th>3</th>\n",
       "      <td>package io.mycat.backend.postgresql.packet;\\n\\...</td>\n",
       "      <td>3</td>\n",
       "    </tr>\n",
       "    <tr>\n",
       "      <th>4</th>\n",
       "      <td>TAPi18n._afterUILanguageChange = function() {\\...</td>\n",
       "      <td>4</td>\n",
       "    </tr>\n",
       "    <tr>\n",
       "      <th>6</th>\n",
       "      <td>/**\\n * \\n */\\npackage org.openrtb.dsp.intf.mo...</td>\n",
       "      <td>3</td>\n",
       "    </tr>\n",
       "    <tr>\n",
       "      <th>12</th>\n",
       "      <td>import Promise from 'bluebird';\\n\\nconst ONE_S...</td>\n",
       "      <td>4</td>\n",
       "    </tr>\n",
       "    <tr>\n",
       "      <th>22</th>\n",
       "      <td>//&gt;&gt;built\\ndefine(\\n//begin v1.x content\\n({\\n...</td>\n",
       "      <td>4</td>\n",
       "    </tr>\n",
       "    <tr>\n",
       "      <th>...</th>\n",
       "      <td>...</td>\n",
       "      <td>...</td>\n",
       "    </tr>\n",
       "    <tr>\n",
       "      <th>28882</th>\n",
       "      <td>Разрабатываете 😳 ? Открытый проект ? MicroSCAD...</td>\n",
       "      <td>10</td>\n",
       "    </tr>\n",
       "    <tr>\n",
       "      <th>28883</th>\n",
       "      <td>Можно ли еще что-либо оптимизировать при такой...</td>\n",
       "      <td>10</td>\n",
       "    </tr>\n",
       "    <tr>\n",
       "      <th>28884</th>\n",
       "      <td>Попробуйте через IDE  проходить курс, гораздо ...</td>\n",
       "      <td>10</td>\n",
       "    </tr>\n",
       "    <tr>\n",
       "      <th>28885</th>\n",
       "      <td>В этом чате недавно было, что можно немного по...</td>\n",
       "      <td>10</td>\n",
       "    </tr>\n",
       "    <tr>\n",
       "      <th>28886</th>\n",
       "      <td>А какое отношение имеет скрипта к этому чату?)</td>\n",
       "      <td>10</td>\n",
       "    </tr>\n",
       "  </tbody>\n",
       "</table>\n",
       "<p>183156 rows × 2 columns</p>\n",
       "</div>"
      ],
      "text/plain": [
       "                                                 content  type\n",
       "3      package io.mycat.backend.postgresql.packet;\\n\\...     3\n",
       "4      TAPi18n._afterUILanguageChange = function() {\\...     4\n",
       "6      /**\\n * \\n */\\npackage org.openrtb.dsp.intf.mo...     3\n",
       "12     import Promise from 'bluebird';\\n\\nconst ONE_S...     4\n",
       "22     //>>built\\ndefine(\\n//begin v1.x content\\n({\\n...     4\n",
       "...                                                  ...   ...\n",
       "28882  Разрабатываете 😳 ? Открытый проект ? MicroSCAD...    10\n",
       "28883  Можно ли еще что-либо оптимизировать при такой...    10\n",
       "28884  Попробуйте через IDE  проходить курс, гораздо ...    10\n",
       "28885  В этом чате недавно было, что можно немного по...    10\n",
       "28886     А какое отношение имеет скрипта к этому чату?)    10\n",
       "\n",
       "[183156 rows x 2 columns]"
      ]
     },
     "execution_count": 6,
     "metadata": {},
     "output_type": "execute_result"
    }
   ],
   "source": [
    "lang_to_int = {'BASH': 0,\n",
    "               'PYTHON': 1,\n",
    "               'KOTLIN': 2,\n",
    "               'JAVA': 3,\n",
    "               'JAVASCRIPT': 4,\n",
    "               'C': 5,\n",
    "               'HASKELL': 6,\n",
    "               'MARKDOWN': 7,\n",
    "               'YAML': 8,\n",
    "               'CPP': 9,\n",
    "               'OTHER': 10}\n",
    "int_to_lang = {0: 'BASH',\n",
    "               1: 'PYTHON',\n",
    "               2: 'KOTLIN',\n",
    "               3: 'JAVA',\n",
    "               4: 'JAVASCRIPT',\n",
    "               5: 'C',\n",
    "               6: 'HASKELL',\n",
    "               7: 'MARKDOWN',\n",
    "               8: 'YAML',\n",
    "               9: 'CPP',\n",
    "               10: 'OTHER'}\n",
    "\n",
    "df['type'] = df['type'].map(lang_to_int)\n",
    "df"
   ]
  },
  {
   "cell_type": "code",
   "execution_count": 7,
   "metadata": {},
   "outputs": [
    {
     "data": {
      "text/plain": [
       "(22, 2529)"
      ]
     },
     "execution_count": 7,
     "metadata": {},
     "output_type": "execute_result"
    }
   ],
   "source": [
    "df['content'].str.len().min(), df['content'].str.len().max() "
   ]
  },
  {
   "cell_type": "code",
   "execution_count": 8,
   "metadata": {},
   "outputs": [],
   "source": [
    "import string\n",
    "\n",
    "def get_features_puctuation(text: str):\n",
    "    features = []\n",
    "    text = str(text)\n",
    "    # print(\"get punctuation features on\", text)\n",
    "    for sign in string.punctuation:\n",
    "        features.append(text.count(sign))\n",
    "    return features\n",
    "\n",
    "def remove_punctuation(text: str):\n",
    "    return re.sub(r\"[^\\w\\s]+\", ' ', text).replace('_', ' ')\n",
    "\n",
    "def count_uppercase_letters(text: str):\n",
    "    return sum(1 for char in text if char.isupper())\n",
    "\n",
    "def camel_case_split(text: str):\n",
    "    matches = re.finditer('.+?(?:(?<=[a-z])(?=[A-Z])|(?<=[A-Z])(?=[A-Z][a-z])|$)', text.replace('\\n', ' '))\n",
    "    return ' '.join([m.group(0) for m in matches])\n",
    "\n",
    "\n",
    "\n",
    "def get_text_features(text):\n",
    "    text = str(text)\n",
    "    punct = get_features_puctuation(text)\n",
    "    punct.append(count_uppercase_letters(text))\n",
    "    return punct\n",
    "\n",
    "def preprocess_text(text):\n",
    "    text = str(text)\n",
    "    return ' '.join(camel_case_split(remove_punctuation(text)).lower().split())"
   ]
  },
  {
   "cell_type": "code",
   "execution_count": 9,
   "metadata": {},
   "outputs": [
    {
     "name": "stdout",
     "output_type": "stream",
     "text": [
      "[1, 2, 0, 0, 0, 0, 0, 1, 1, 2, 0, 1, 0, 0, 0, 4, 2, 4, 0, 0, 0, 0, 0, 0, 0, 0, 0, 0, 1, 0, 1, 0, 2]\n"
     ]
    }
   ],
   "source": [
    "test_string = 'int main(int argc, char **argv) {\\n std::cout << \"HelloWorld!\" << std::endl;\\n return 0;\\n }'\n",
    "print(get_text_features(test_string))"
   ]
  },
  {
   "cell_type": "code",
   "execution_count": 10,
   "metadata": {},
   "outputs": [
    {
     "name": "stderr",
     "output_type": "stream",
     "text": [
      "C:\\Users\\sergf\\AppData\\Local\\Temp\\ipykernel_19996\\4024756841.py:1: SettingWithCopyWarning: \n",
      "A value is trying to be set on a copy of a slice from a DataFrame.\n",
      "Try using .loc[row_indexer,col_indexer] = value instead\n",
      "\n",
      "See the caveats in the documentation: https://pandas.pydata.org/pandas-docs/stable/user_guide/indexing.html#returning-a-view-versus-a-copy\n",
      "  df['features'] = df['content'].apply(get_text_features)\n",
      "C:\\Users\\sergf\\AppData\\Local\\Temp\\ipykernel_19996\\4024756841.py:2: SettingWithCopyWarning: \n",
      "A value is trying to be set on a copy of a slice from a DataFrame.\n",
      "Try using .loc[row_indexer,col_indexer] = value instead\n",
      "\n",
      "See the caveats in the documentation: https://pandas.pydata.org/pandas-docs/stable/user_guide/indexing.html#returning-a-view-versus-a-copy\n",
      "  df['preprocessed_text'] = df['content'].apply(preprocess_text)\n"
     ]
    }
   ],
   "source": [
    "df['features'] = df['content'].apply(get_text_features)\n",
    "df['preprocessed_text'] = df['content'].apply(preprocess_text)"
   ]
  },
  {
   "cell_type": "markdown",
   "metadata": {},
   "source": [
    "В качестве модели будем использовать логистическую регрессию, а также CountVectorizer для анализа текста. Поскольку присутствует явный дизбаланс классов (сниппетов питона больше 17 тысяч, а Хаскеля всего 8), будем использовать weighted f1_score в качестве метрики."
   ]
  },
  {
   "cell_type": "code",
   "execution_count": 11,
   "metadata": {},
   "outputs": [],
   "source": [
    "from sklearn.feature_extraction.text import CountVectorizer\n",
    "from sklearn.linear_model import LogisticRegression\n",
    "from sklearn.model_selection import train_test_split\n",
    "from sklearn.metrics import f1_score"
   ]
  },
  {
   "cell_type": "markdown",
   "metadata": {},
   "source": [
    "Выделим часть датасета с GitHub под тест, потому что это единственный способ наверняка понять, как работает модель (разметка данных из ТГ очень плохая)."
   ]
  },
  {
   "cell_type": "code",
   "execution_count": 12,
   "metadata": {},
   "outputs": [],
   "source": [
    "train, test = train_test_split(df, random_state=0, test_size=0.1)"
   ]
  },
  {
   "cell_type": "code",
   "execution_count": 13,
   "metadata": {},
   "outputs": [],
   "source": [
    "from scipy.sparse import csr_matrix, hstack"
   ]
  },
  {
   "cell_type": "code",
   "execution_count": 14,
   "metadata": {},
   "outputs": [],
   "source": [
    "bow = CountVectorizer()\n",
    "bow_features_train = bow.fit_transform(train['preprocessed_text'])\n",
    "text_features_train = csr_matrix(np.vstack(train['features']))\n",
    "x_train = hstack((bow_features_train, text_features_train))\n",
    "y_train = train['type']\n",
    "\n",
    "bow_features_test = bow.transform(test['preprocessed_text'])\n",
    "text_features_test = csr_matrix(np.vstack(test['features']))\n",
    "x_test = hstack((bow_features_test, text_features_test))\n",
    "y_test = test['type']"
   ]
  },
  {
   "cell_type": "code",
   "execution_count": 15,
   "metadata": {},
   "outputs": [
    {
     "name": "stderr",
     "output_type": "stream",
     "text": [
      "c:\\Users\\sergf\\miniconda3\\Lib\\site-packages\\sklearn\\linear_model\\_logistic.py:458: ConvergenceWarning: lbfgs failed to converge (status=1):\n",
      "STOP: TOTAL NO. of ITERATIONS REACHED LIMIT.\n",
      "\n",
      "Increase the number of iterations (max_iter) or scale the data as shown in:\n",
      "    https://scikit-learn.org/stable/modules/preprocessing.html\n",
      "Please also refer to the documentation for alternative solver options:\n",
      "    https://scikit-learn.org/stable/modules/linear_model.html#logistic-regression\n",
      "  n_iter_i = _check_optimize_result(\n"
     ]
    },
    {
     "data": {
      "text/html": [
       "<style>#sk-container-id-1 {color: black;background-color: white;}#sk-container-id-1 pre{padding: 0;}#sk-container-id-1 div.sk-toggleable {background-color: white;}#sk-container-id-1 label.sk-toggleable__label {cursor: pointer;display: block;width: 100%;margin-bottom: 0;padding: 0.3em;box-sizing: border-box;text-align: center;}#sk-container-id-1 label.sk-toggleable__label-arrow:before {content: \"▸\";float: left;margin-right: 0.25em;color: #696969;}#sk-container-id-1 label.sk-toggleable__label-arrow:hover:before {color: black;}#sk-container-id-1 div.sk-estimator:hover label.sk-toggleable__label-arrow:before {color: black;}#sk-container-id-1 div.sk-toggleable__content {max-height: 0;max-width: 0;overflow: hidden;text-align: left;background-color: #f0f8ff;}#sk-container-id-1 div.sk-toggleable__content pre {margin: 0.2em;color: black;border-radius: 0.25em;background-color: #f0f8ff;}#sk-container-id-1 input.sk-toggleable__control:checked~div.sk-toggleable__content {max-height: 200px;max-width: 100%;overflow: auto;}#sk-container-id-1 input.sk-toggleable__control:checked~label.sk-toggleable__label-arrow:before {content: \"▾\";}#sk-container-id-1 div.sk-estimator input.sk-toggleable__control:checked~label.sk-toggleable__label {background-color: #d4ebff;}#sk-container-id-1 div.sk-label input.sk-toggleable__control:checked~label.sk-toggleable__label {background-color: #d4ebff;}#sk-container-id-1 input.sk-hidden--visually {border: 0;clip: rect(1px 1px 1px 1px);clip: rect(1px, 1px, 1px, 1px);height: 1px;margin: -1px;overflow: hidden;padding: 0;position: absolute;width: 1px;}#sk-container-id-1 div.sk-estimator {font-family: monospace;background-color: #f0f8ff;border: 1px dotted black;border-radius: 0.25em;box-sizing: border-box;margin-bottom: 0.5em;}#sk-container-id-1 div.sk-estimator:hover {background-color: #d4ebff;}#sk-container-id-1 div.sk-parallel-item::after {content: \"\";width: 100%;border-bottom: 1px solid gray;flex-grow: 1;}#sk-container-id-1 div.sk-label:hover label.sk-toggleable__label {background-color: #d4ebff;}#sk-container-id-1 div.sk-serial::before {content: \"\";position: absolute;border-left: 1px solid gray;box-sizing: border-box;top: 0;bottom: 0;left: 50%;z-index: 0;}#sk-container-id-1 div.sk-serial {display: flex;flex-direction: column;align-items: center;background-color: white;padding-right: 0.2em;padding-left: 0.2em;position: relative;}#sk-container-id-1 div.sk-item {position: relative;z-index: 1;}#sk-container-id-1 div.sk-parallel {display: flex;align-items: stretch;justify-content: center;background-color: white;position: relative;}#sk-container-id-1 div.sk-item::before, #sk-container-id-1 div.sk-parallel-item::before {content: \"\";position: absolute;border-left: 1px solid gray;box-sizing: border-box;top: 0;bottom: 0;left: 50%;z-index: -1;}#sk-container-id-1 div.sk-parallel-item {display: flex;flex-direction: column;z-index: 1;position: relative;background-color: white;}#sk-container-id-1 div.sk-parallel-item:first-child::after {align-self: flex-end;width: 50%;}#sk-container-id-1 div.sk-parallel-item:last-child::after {align-self: flex-start;width: 50%;}#sk-container-id-1 div.sk-parallel-item:only-child::after {width: 0;}#sk-container-id-1 div.sk-dashed-wrapped {border: 1px dashed gray;margin: 0 0.4em 0.5em 0.4em;box-sizing: border-box;padding-bottom: 0.4em;background-color: white;}#sk-container-id-1 div.sk-label label {font-family: monospace;font-weight: bold;display: inline-block;line-height: 1.2em;}#sk-container-id-1 div.sk-label-container {text-align: center;}#sk-container-id-1 div.sk-container {/* jupyter's `normalize.less` sets `[hidden] { display: none; }` but bootstrap.min.css set `[hidden] { display: none !important; }` so we also need the `!important` here to be able to override the default hidden behavior on the sphinx rendered scikit-learn.org. See: https://github.com/scikit-learn/scikit-learn/issues/21755 */display: inline-block !important;position: relative;}#sk-container-id-1 div.sk-text-repr-fallback {display: none;}</style><div id=\"sk-container-id-1\" class=\"sk-top-container\"><div class=\"sk-text-repr-fallback\"><pre>LogisticRegression(max_iter=1000)</pre><b>In a Jupyter environment, please rerun this cell to show the HTML representation or trust the notebook. <br />On GitHub, the HTML representation is unable to render, please try loading this page with nbviewer.org.</b></div><div class=\"sk-container\" hidden><div class=\"sk-item\"><div class=\"sk-estimator sk-toggleable\"><input class=\"sk-toggleable__control sk-hidden--visually\" id=\"sk-estimator-id-1\" type=\"checkbox\" checked><label for=\"sk-estimator-id-1\" class=\"sk-toggleable__label sk-toggleable__label-arrow\">LogisticRegression</label><div class=\"sk-toggleable__content\"><pre>LogisticRegression(max_iter=1000)</pre></div></div></div></div></div>"
      ],
      "text/plain": [
       "LogisticRegression(max_iter=1000)"
      ]
     },
     "execution_count": 15,
     "metadata": {},
     "output_type": "execute_result"
    }
   ],
   "source": [
    "model = LogisticRegression(max_iter=1000)\n",
    "model.fit(x_train, y_train)"
   ]
  },
  {
   "cell_type": "code",
   "execution_count": 16,
   "metadata": {},
   "outputs": [
    {
     "data": {
      "text/plain": [
       "0.9764559701023453"
      ]
     },
     "execution_count": 16,
     "metadata": {},
     "output_type": "execute_result"
    }
   ],
   "source": [
    "y_pred = model.predict(x_test)\n",
    "f1_score(y_pred, y_test, average='weighted')"
   ]
  },
  {
   "cell_type": "code",
   "execution_count": 17,
   "metadata": {},
   "outputs": [],
   "source": [
    "def make_test_from_tg(bow: CountVectorizer, _df: pd.DataFrame):\n",
    "    df = _df.copy()\n",
    "    df['features'] = df['snippets'].apply(get_text_features)\n",
    "    df['preprocessed_text'] = df['snippets'].apply(preprocess_text)\n",
    "    bow_features_test = bow.transform(df['preprocessed_text'])\n",
    "    text_features_test = csr_matrix(np.vstack(df['features']))\n",
    "    x_test = hstack((bow_features_test, text_features_test))\n",
    "    y_test = df['language']\n",
    "    return x_test, y_test"
   ]
  },
  {
   "cell_type": "code",
   "execution_count": 18,
   "metadata": {},
   "outputs": [
    {
     "data": {
      "text/html": [
       "<div>\n",
       "<style scoped>\n",
       "    .dataframe tbody tr th:only-of-type {\n",
       "        vertical-align: middle;\n",
       "    }\n",
       "\n",
       "    .dataframe tbody tr th {\n",
       "        vertical-align: top;\n",
       "    }\n",
       "\n",
       "    .dataframe thead th {\n",
       "        text-align: right;\n",
       "    }\n",
       "</style>\n",
       "<table border=\"1\" class=\"dataframe\">\n",
       "  <thead>\n",
       "    <tr style=\"text-align: right;\">\n",
       "      <th></th>\n",
       "      <th>Unnamed: 0</th>\n",
       "      <th>snippets</th>\n",
       "      <th>language</th>\n",
       "    </tr>\n",
       "  </thead>\n",
       "  <tbody>\n",
       "    <tr>\n",
       "      <th>0</th>\n",
       "      <td>0</td>\n",
       "      <td>root@pve:/# lvs | grep vm-109\\n  vm-109-disk-0...</td>\n",
       "      <td>0</td>\n",
       "    </tr>\n",
       "    <tr>\n",
       "      <th>1</th>\n",
       "      <td>1</td>\n",
       "      <td>exec(\"sudo -u bratsk /usr/bin/sshpass -p admin...</td>\n",
       "      <td>0</td>\n",
       "    </tr>\n",
       "    <tr>\n",
       "      <th>2</th>\n",
       "      <td>2</td>\n",
       "      <td>$bar1 = &lt;&lt;&lt;EOT\\n\"\\\"\"bitmain-freq1\"\\\"\" : \"\\\"\"64...</td>\n",
       "      <td>0</td>\n",
       "    </tr>\n",
       "    <tr>\n",
       "      <th>3</th>\n",
       "      <td>3</td>\n",
       "      <td>\"bitmain-freq1\" : \"625\",\\n\"bitmain-freq2\" : \"6...</td>\n",
       "      <td>0</td>\n",
       "    </tr>\n",
       "    <tr>\n",
       "      <th>4</th>\n",
       "      <td>4</td>\n",
       "      <td>script_sql &amp;&amp; \\\\nscript_php &amp;&amp; \\\\nscript_jq &amp; ...</td>\n",
       "      <td>0</td>\n",
       "    </tr>\n",
       "    <tr>\n",
       "      <th>...</th>\n",
       "      <td>...</td>\n",
       "      <td>...</td>\n",
       "      <td>...</td>\n",
       "    </tr>\n",
       "    <tr>\n",
       "      <th>17231</th>\n",
       "      <td>17231</td>\n",
       "      <td>\\nasync def test_get_notifications(bearer: MM,...</td>\n",
       "      <td>1</td>\n",
       "    </tr>\n",
       "    <tr>\n",
       "      <th>17232</th>\n",
       "      <td>17232</td>\n",
       "      <td>/*\\n\\n*/</td>\n",
       "      <td>1</td>\n",
       "    </tr>\n",
       "    <tr>\n",
       "      <th>17233</th>\n",
       "      <td>17233</td>\n",
       "      <td>In [1]: print('hello'); print('world'); print(...</td>\n",
       "      <td>1</td>\n",
       "    </tr>\n",
       "    <tr>\n",
       "      <th>17234</th>\n",
       "      <td>17234</td>\n",
       "      <td>Authorization: `Bearer ${token}`,</td>\n",
       "      <td>1</td>\n",
       "    </tr>\n",
       "    <tr>\n",
       "      <th>17235</th>\n",
       "      <td>17235</td>\n",
       "      <td>&gt;&gt;&gt; hash(5)\\n5\\n&gt;&gt;&gt; hash(4)\\n4\\n&gt;&gt;&gt; hash(-2)\\n...</td>\n",
       "      <td>1</td>\n",
       "    </tr>\n",
       "  </tbody>\n",
       "</table>\n",
       "<p>56855 rows × 3 columns</p>\n",
       "</div>"
      ],
      "text/plain": [
       "       Unnamed: 0                                           snippets  language\n",
       "0               0  root@pve:/# lvs | grep vm-109\\n  vm-109-disk-0...         0\n",
       "1               1  exec(\"sudo -u bratsk /usr/bin/sshpass -p admin...         0\n",
       "2               2  $bar1 = <<<EOT\\n\"\\\"\"bitmain-freq1\"\\\"\" : \"\\\"\"64...         0\n",
       "3               3  \"bitmain-freq1\" : \"625\",\\n\"bitmain-freq2\" : \"6...         0\n",
       "4               4  script_sql && \\\\nscript_php && \\\\nscript_jq & ...         0\n",
       "...           ...                                                ...       ...\n",
       "17231       17231  \\nasync def test_get_notifications(bearer: MM,...         1\n",
       "17232       17232                                           /*\\n\\n*/         1\n",
       "17233       17233  In [1]: print('hello'); print('world'); print(...         1\n",
       "17234       17234                  Authorization: `Bearer ${token}`,         1\n",
       "17235       17235  >>> hash(5)\\n5\\n>>> hash(4)\\n4\\n>>> hash(-2)\\n...         1\n",
       "\n",
       "[56855 rows x 3 columns]"
      ]
     },
     "execution_count": 18,
     "metadata": {},
     "output_type": "execute_result"
    }
   ],
   "source": [
    "dfs = []\n",
    "DATA_PATH = os.path.join('..', 'data', 'code_snippets')\n",
    "\n",
    "for filename in os.listdir(DATA_PATH):\n",
    "    tmp_df = pd.read_csv(os.path.join(DATA_PATH, filename))\n",
    "    tmp_df['language'] = lang_to_int['_'.join(filename.split('_')[:-1])]\n",
    "    dfs.append(tmp_df)\n",
    "\n",
    "test_df = pd.concat(dfs)\n",
    "test_df"
   ]
  },
  {
   "cell_type": "code",
   "execution_count": 19,
   "metadata": {},
   "outputs": [],
   "source": [
    "test_df.dropna(axis=1, how='any')\n",
    "x_test_tg, y_test_tg = make_test_from_tg(bow, test_df)\n",
    "y_pred_tg = model.predict(x_test_tg)"
   ]
  },
  {
   "cell_type": "markdown",
   "metadata": {},
   "source": [
    "Поскольку найти чатики отдельно по С и С++ не представлялось возможным, я добавил только сниппеты с пометкой С, но если модель угадала их как С++, я тоже буду это считать."
   ]
  },
  {
   "cell_type": "code",
   "execution_count": 20,
   "metadata": {},
   "outputs": [],
   "source": [
    "y_test_tg = list(y_test_tg)\n",
    "y_pred_tg = list(y_pred_tg)\n",
    "for i, pred in enumerate(y_pred_tg):\n",
    "    if int_to_lang[y_test_tg[i]] == 'C' and int_to_lang[pred] in ['C', 'CPP']:\n",
    "        y_pred_tg[i] = lang_to_int['C']"
   ]
  },
  {
   "cell_type": "code",
   "execution_count": 21,
   "metadata": {},
   "outputs": [
    {
     "data": {
      "text/plain": [
       "0.3779924600957938"
      ]
     },
     "execution_count": 21,
     "metadata": {},
     "output_type": "execute_result"
    }
   ],
   "source": [
    "f1_score(y_pred_tg, y_test_tg, average='weighted')"
   ]
  },
  {
   "cell_type": "markdown",
   "metadata": {},
   "source": [
    "Результат получился не слишком высокий, но стоит иметь в виду, что данные для тестирования максимально плохие. В чатах далеко не всегда появляются сообщения с кодом языка, которому этот чат посвящён, а зачастую там вообще просто текст или вывод из консоли. Поэтому, по субъективным ощущениям, результат довольно неплохой, что показали тесты на собственных сниппетах."
   ]
  },
  {
   "cell_type": "markdown",
   "metadata": {},
   "source": [
    "Для тестов брались сниппеты из нескольких реальных сообщений, а также из моих проектов. Для большей реалистичности, в тестовых сниппетах нарочно были добавлены ошибки и местами испорчен синтаксис, но модель всё равно хорошо справилась."
   ]
  },
  {
   "cell_type": "code",
   "execution_count": 22,
   "metadata": {},
   "outputs": [],
   "source": [
    "import pickle\n",
    "\n",
    "with open('model.pkl', 'wb') as f:\n",
    "    pickle.dump((model, bow), f)"
   ]
  }
 ],
 "metadata": {
  "kernelspec": {
   "display_name": "base",
   "language": "python",
   "name": "python3"
  },
  "language_info": {
   "codemirror_mode": {
    "name": "ipython",
    "version": 3
   },
   "file_extension": ".py",
   "mimetype": "text/x-python",
   "name": "python",
   "nbconvert_exporter": "python",
   "pygments_lexer": "ipython3",
   "version": "3.11.5"
  }
 },
 "nbformat": 4,
 "nbformat_minor": 2
}
