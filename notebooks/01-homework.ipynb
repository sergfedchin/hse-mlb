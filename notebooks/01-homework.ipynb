{
 "cells": [
  {
   "cell_type": "code",
   "execution_count": 1,
   "id": "0167b4f5",
   "metadata": {},
   "outputs": [],
   "source": [
    "def func(x: list):\n",
    "    d = {} # словарь частот чисел\n",
    "    sum_num = 0 # сумма чисел\n",
    "    for num in x:\n",
    "        d[num] = d.get(num, 0) + 1\n",
    "        sum_num += num\n",
    "    most_frequent_num = x[0]\n",
    "    frequency = d[most_frequent_num]\n",
    "    for num in d:\n",
    "        if d[num] > frequency:\n",
    "            most_frequent_num = num\n",
    "            frequency = d[num]\n",
    "    return {\"mean\" : round(sum_num / len(x), 4), \"median\" : sorted(x)[int(len(x)/2)], \"mode\" : most_frequent_num}"
   ]
  },
  {
   "cell_type": "code",
   "execution_count": 2,
   "id": "5628c9ff",
   "metadata": {},
   "outputs": [
    {
     "data": {
      "text/plain": [
       "{'mean': 3.4286, 'median': 3, 'mode': 1}"
      ]
     },
     "execution_count": 2,
     "metadata": {},
     "output_type": "execute_result"
    }
   ],
   "source": [
    "func([0, 1, 1, 10, 5, 4, 3])\n"
   ]
  },
  {
   "cell_type": "code",
   "execution_count": 3,
   "id": "758d862e",
   "metadata": {},
   "outputs": [],
   "source": [
    "def parse_csv(file_content: str) -> list[dict]:\n",
    "    with open(file_content, 'r') as file:\n",
    "        lines = file.readlines()\n",
    "    # заголовки аттрибутов\n",
    "    headings = lines[0].split(',')\n",
    "    i = 1\n",
    "    res = []\n",
    "    while i < len(lines):\n",
    "        hero = lines[i].split(',')\n",
    "        d = {}\n",
    "        # добавим простые аттрибуты в словарь\n",
    "        d[headings[1]] = hero[1]\n",
    "        d[headings[2]] = int(hero[2])\n",
    "        d[headings[3]] = int(hero[3])\n",
    "        for j in range(4, 7):\n",
    "            d[headings[j]] = hero[j]\n",
    "        # выделим словарь ролей по квадратным скобкам, разделим получившуюся \n",
    "        # строку по запятым и у каждого элемента уберём кавычки\n",
    "        d[\"roles\"] = list(map(lambda s: s[1:-1], (lines[i][lines[i].find(\"[\") + 1 : lines[i].find(\"]\")]).split(\", \")))\n",
    "        res.append(d)\n",
    "        i += 1\n",
    "    return res\n",
    "\n",
    "def find_most_legged_hero(heroes: list[dict]) -> dict:\n",
    "    m = 0\n",
    "    most_legged_hero = {}\n",
    "    for hero in heroes:\n",
    "        if hero[\"legs\"] > m:\n",
    "            m = hero[\"legs\"]\n",
    "            most_legged_hero = hero\n",
    "    return most_legged_hero"
   ]
  },
  {
   "cell_type": "code",
   "execution_count": 4,
   "id": "5dbe9b1b",
   "metadata": {},
   "outputs": [
    {
     "data": {
      "text/plain": [
       "{'attack_type': 'Melee',\n",
       " 'id': 61,\n",
       " 'legs': 8,\n",
       " 'localized_name': 'Broodmother',\n",
       " 'name': 'npc_dota_hero_broodmother',\n",
       " 'primary_attr': 'agi',\n",
       " 'roles': ['Carry', 'Pusher', 'Escape', 'Nuker']}"
      ]
     },
     "execution_count": 4,
     "metadata": {},
     "output_type": "execute_result"
    }
   ],
   "source": [
    "find_most_legged_hero(parse_csv(\"../data/dota_hero_stats.csv\"))"
   ]
  }
 ],
 "metadata": {
  "kernelspec": {
   "display_name": "Python 3 (ipykernel)",
   "language": "python",
   "name": "python3"
  },
  "language_info": {
   "codemirror_mode": {
    "name": "ipython",
    "version": 3
   },
   "file_extension": ".py",
   "mimetype": "text/x-python",
   "name": "python",
   "nbconvert_exporter": "python",
   "pygments_lexer": "ipython3",
   "version": "3.10.12"
  }
 },
 "nbformat": 4,
 "nbformat_minor": 5
}
